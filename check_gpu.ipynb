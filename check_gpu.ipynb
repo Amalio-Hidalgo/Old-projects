{
 "cells": [
  {
   "cell_type": "code",
   "execution_count": null,
   "id": "4f6515ed-bdbe-4756-abed-94345580953f",
   "metadata": {},
   "outputs": [
    {
     "ename": "",
     "evalue": "",
     "output_type": "error",
     "traceback": [
      "\u001b[1;31mRunning cells with 'Python 3.13.0' requires the ipykernel package.\n",
      "\u001b[1;31m<a href='command:jupyter.createPythonEnvAndSelectController'>Create a Python Environment</a> with the required packages.\n",
      "\u001b[1;31mOr install 'ipykernel' using the command: 'c:/Users/amali/AppData/Local/Programs/Python/Python313/python.exe -m pip install ipykernel -U --user --force-reinstall'"
     ]
    }
   ],
   "source": [
    "import tensorflow as tf\n",
    "from tensorflow import keras\n",
    "import torch\n",
    "def check_gpu():\n",
    "    if tf.test.is_gpu_available():\n",
    "        print(\"TensorFlow GPU is available.\")\n",
    "    else:\n",
    "        print(\"TensorFlow GPU is not available.\")\n",
    "\n",
    "    if torch.cuda.is_available():\n",
    "        print(\"PyTorch GPU is available.\")\n",
    "        torch.cuda.get_device_name()\n",
    "    else:\n",
    "        print(\"PyTorch GPU is not available.\")"
   ]
  }
 ],
 "metadata": {
  "kernelspec": {
   "display_name": "Python 3",
   "language": "python",
   "name": "python3"
  },
  "language_info": {
   "codemirror_mode": {
    "name": "ipython",
    "version": 3
   },
   "file_extension": ".py",
   "mimetype": "text/x-python",
   "name": "python",
   "nbconvert_exporter": "python",
   "pygments_lexer": "ipython3",
   "version": "3.13.0"
  }
 },
 "nbformat": 4,
 "nbformat_minor": 5
}
