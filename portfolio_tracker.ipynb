{
 "cells": [
  {
   "cell_type": "code",
   "execution_count": 8,
   "metadata": {},
   "outputs": [],
   "source": [
    "import pandas as pd\n",
    "import requests\n",
    "import datetime as dt\n",
    "import time\n",
    "import multiprocessing\n"
   ]
  },
  {
   "cell_type": "code",
   "execution_count": null,
   "metadata": {},
   "outputs": [
    {
     "name": "stdout",
     "output_type": "stream",
     "text": [
      "[{'chain': 'arb', 'name': 'arb_apollox', 'commonName': 'APX Finance', 'logo': 'https://valk-merlin.s3.amazonaws.com/protocol-icons/arb_apollox.png', 'site': 'https://www.apollox.finance/', 'portfolio': [{'total': {'supplyUSD': 119.26757665635216, 'debtUSD': 0.0, 'txFeeUSD': 0.0, 'navUSD': 119.26757665635216, 'active': True}, 'detailed': {'supply': [{'id': '', 'tokenAddress': '0x82af49447d8a07e3bd95bd0d56f35241523fbab1', 'tokenDecimals': 18, 'tokenName': 'Wrapped Ether', 'tokenSymbol': 'WETH', 'usdRate': 3.28071e-15, 'balance': 36354196700211894, 'balanceUSD': 119.26757665635216, 'logo': 'https://valk-merlin.s3.amazonaws.com/token-icons-small/arb/0x82af49447d8a07e3bd95bd0d56f35241523fbab1.png', 'reserve': None, 'apy': None, 'balanceDecimal': 0.036354196700211894}], 'rewards': None, 'borrow': None, 'lpTokenAddress': None, 'poolTokenName': None, 'poolTokenSymbol': None, 'poolAddress': '0xb3879e95a4b8e3ee570c232b19d520821f540e48:perpetual', 'lpToken': None, 'poolApy': None, 'balanceOf': None, 'totalSupply': None, 'unlock': None, 'description': None}, 'yieldAndPnl': None, 'poolData': None, 'module': 'Perpetuals', 'proxy': None}, {'total': {'supplyUSD': 107.77237625292388, 'debtUSD': 0.0, 'txFeeUSD': 0.0, 'navUSD': 107.77237625292388, 'active': True}, 'detailed': {'supply': [{'id': '', 'tokenAddress': '0x82af49447d8a07e3bd95bd0d56f35241523fbab1', 'tokenDecimals': 18, 'tokenName': 'Wrapped Ether', 'tokenSymbol': 'WETH', 'usdRate': 3.28071e-15, 'balance': 32850320891795945, 'balanceUSD': 107.77237625292388, 'logo': 'https://valk-merlin.s3.amazonaws.com/token-icons-small/arb/0x82af49447d8a07e3bd95bd0d56f35241523fbab1.png', 'reserve': None, 'apy': None, 'balanceDecimal': 0.032850320891795945}], 'rewards': None, 'borrow': None, 'lpTokenAddress': None, 'poolTokenName': None, 'poolTokenSymbol': None, 'poolAddress': '0xb3879e95a4b8e3ee570c232b19d520821f540e48:perpetual', 'lpToken': None, 'poolApy': None, 'balanceOf': None, 'totalSupply': None, 'unlock': None, 'description': None}, 'yieldAndPnl': None, 'poolData': None, 'module': 'Perpetuals', 'proxy': None}, {'total': {'supplyUSD': 131.2251655238253, 'debtUSD': 0.0, 'txFeeUSD': 0.0, 'navUSD': 131.2251655238253, 'active': True}, 'detailed': {'supply': [{'id': '', 'tokenAddress': '0x82af49447d8a07e3bd95bd0d56f35241523fbab1', 'tokenDecimals': 18, 'tokenName': 'Wrapped Ether', 'tokenSymbol': 'WETH', 'usdRate': 3.28071e-15, 'balance': 39999014092627905, 'balanceUSD': 131.2251655238253, 'logo': 'https://valk-merlin.s3.amazonaws.com/token-icons-small/arb/0x82af49447d8a07e3bd95bd0d56f35241523fbab1.png', 'reserve': None, 'apy': None, 'balanceDecimal': 0.039999014092627905}], 'rewards': None, 'borrow': None, 'lpTokenAddress': None, 'poolTokenName': None, 'poolTokenSymbol': None, 'poolAddress': '0xb3879e95a4b8e3ee570c232b19d520821f540e48:perpetual', 'lpToken': None, 'poolApy': None, 'balanceOf': None, 'totalSupply': None, 'unlock': None, 'description': None}, 'yieldAndPnl': None, 'poolData': None, 'module': 'Perpetuals', 'proxy': None}], 'fullCoverage': False}, {'chain': 'arb', 'name': 'arb_pendle2', 'commonName': 'Pendle V2', 'logo': 'https://valk-merlin.s3.amazonaws.com/protocol-icons/arb_pendle2.png', 'site': 'https://app.pendle.finance', 'portfolio': [{'total': {'supplyUSD': 0.8954327919423709, 'debtUSD': 0.0, 'txFeeUSD': 0.0, 'navUSD': 0.8954327919423709, 'active': True}, 'detailed': {'supply': [{'id': '', 'tokenAddress': '0x35751007a407ca6feffe80b3cb397736d2cf4dbe', 'tokenDecimals': 18, 'tokenName': 'Wrapped eETH', 'tokenSymbol': 'weETH', 'usdRate': 3.4518621933531377e-15, 'balance': 259405718358805, 'balanceUSD': 0.8954327919423709, 'logo': 'https://valk-merlin.s3.amazonaws.com/token-icons-small/arb/0x35751007a407ca6feffe80b3cb397736d2cf4dbe.png', 'reserve': None, 'apy': None, 'balanceDecimal': 0.000259405718358805}], 'rewards': None, 'borrow': None, 'lpTokenAddress': None, 'poolTokenName': None, 'poolTokenSymbol': None, 'poolAddress': '0xa6c895eb332e91c5b3d00b7baeeaae478cc502da', 'lpToken': None, 'poolApy': None, 'balanceOf': None, 'totalSupply': None, 'unlock': None, 'description': None}, 'yieldAndPnl': None, 'poolData': None, 'module': 'Staked', 'proxy': None}], 'fullCoverage': False}, {'chain': 'base', 'name': 'base_aerodrome', 'commonName': 'Aerodrome', 'logo': 'https://valk-merlin.s3.amazonaws.com/protocol-icons/base_aerodrome.png', 'site': 'https://aerodrome.finance/', 'portfolio': [{'total': {'supplyUSD': 8.29017794329327, 'debtUSD': 0.0, 'txFeeUSD': 0.0, 'navUSD': 8.29017794329327, 'active': True}, 'detailed': {'supply': [{'id': '', 'tokenAddress': '0x940181a94a35a4569e4529a3cdfb74e38fd98631', 'tokenDecimals': 18, 'tokenName': 'Aerodrome', 'tokenSymbol': 'AERO', 'usdRate': 1.349084603682117e-18, 'balance': 6145039325677956000, 'balanceUSD': 8.29017794329327, 'logo': 'https://valk-merlin.s3.amazonaws.com/token-icons-small/base/0x940181a94a35a4569e4529a3cdfb74e38fd98631.png', 'reserve': None, 'apy': None, 'balanceDecimal': 6.145039325677956}], 'rewards': [{'id': '', 'tokenAddress': '0x940181a94a35a4569e4529a3cdfb74e38fd98631', 'tokenDecimals': 18, 'tokenName': 'Aerodrome', 'tokenSymbol': 'AERO', 'usdRate': 1.349084603682117e-18, 'balance': 120317678607332500, 'balanceUSD': 0.16231872775992548, 'logo': 'https://valk-merlin.s3.amazonaws.com/token-icons-small/base/0x940181a94a35a4569e4529a3cdfb74e38fd98631.png', 'reserve': None, 'apy': None, 'balanceDecimal': 0.1203176786073325}], 'borrow': None, 'lpTokenAddress': None, 'poolTokenName': None, 'poolTokenSymbol': None, 'poolAddress': '0xebf418fe2512e7e6bd9b87a8f0f294acdc67e6b4', 'lpToken': None, 'poolApy': None, 'balanceOf': None, 'totalSupply': None, 'unlock': None, 'description': None}, 'yieldAndPnl': None, 'poolData': None, 'module': 'Locked', 'proxy': None}], 'fullCoverage': False}, {'chain': 'base', 'name': 'base_etherfi', 'commonName': 'ether.fi', 'logo': 'https://valk-merlin.s3.amazonaws.com/protocol-icons/base_etherfi.png', 'site': 'https://www.ether.fi/', 'portfolio': [{'total': {'supplyUSD': 20.455871356879637, 'debtUSD': 0.0, 'txFeeUSD': 0.0, 'navUSD': 20.455871356879637, 'active': True}, 'detailed': {'supply': [{'id': '', 'tokenAddress': '0x6c240dda6b5c336df09a4d011139beaaa1ea2aa2', 'tokenDecimals': 18, 'tokenName': 'ether.fi governance token', 'tokenSymbol': 'ETHFI', 'usdRate': 1.6327688061385463e-18, 'balance': 12528333025455830000, 'balanceUSD': 20.455871356879637, 'logo': 'https://valk-merlin.s3.amazonaws.com/token-icons-small/base/0x6c240dda6b5c336df09a4d011139beaaa1ea2aa2.png', 'reserve': None, 'apy': None, 'balanceDecimal': 12.52833302545583}], 'rewards': None, 'borrow': None, 'lpTokenAddress': None, 'poolTokenName': None, 'poolTokenSymbol': None, 'poolAddress': '0x86b5780b606940eb59a062aa85a07959518c0161', 'lpToken': None, 'poolApy': None, 'balanceOf': None, 'totalSupply': None, 'unlock': None, 'description': None}, 'yieldAndPnl': None, 'poolData': None, 'module': 'Staked', 'proxy': None}], 'fullCoverage': False}, {'chain': 'base', 'name': 'base_fluid', 'commonName': 'Fluid', 'logo': 'https://valk-merlin.s3.amazonaws.com/protocol-icons/base_fluid.png', 'site': 'https://fluid.instadapp.io/', 'portfolio': [{'total': {'supplyUSD': 0.5633776118122888, 'debtUSD': 0.0, 'txFeeUSD': 0.0, 'navUSD': 0.5633776118122888, 'active': True}, 'detailed': {'supply': [{'id': '', 'tokenAddress': '0x04c0599ae5a44757c0af6f9ec3b93da8976c150a', 'tokenDecimals': 18, 'tokenName': 'Wrapped eETH', 'tokenSymbol': 'weETH', 'usdRate': 3.4532289559284227e-15, 'balance': 163145166162555, 'balanceUSD': 0.5633776118122888, 'logo': 'https://valk-merlin.s3.amazonaws.com/token-icons-small/base/0x04c0599ae5a44757c0af6f9ec3b93da8976c150a.png', 'reserve': None, 'apy': None, 'balanceDecimal': 0.000163145166162555}], 'rewards': None, 'borrow': None, 'lpTokenAddress': None, 'poolTokenName': None, 'poolTokenSymbol': None, 'poolAddress': '0x324c5dc1fc42c7a4d43d92df1eba58a54d13bf2d', 'lpToken': None, 'poolApy': None, 'balanceOf': None, 'totalSupply': None, 'unlock': None, 'description': None}, 'yieldAndPnl': None, 'poolData': None, 'module': 'Lending', 'proxy': None}], 'fullCoverage': False}, {'chain': 'blast', 'name': 'blast_blastup', 'commonName': 'BLASTUP', 'logo': 'https://valk-merlin.s3.amazonaws.com/protocol-icons/blast_blastup.png', 'site': 'https://app.blastup.io', 'portfolio': [{'total': {'supplyUSD': 0.0, 'debtUSD': 0.0, 'txFeeUSD': 0.0, 'navUSD': 0.0, 'active': True}, 'detailed': {'supply': [{'id': '', 'tokenAddress': '0x4300000000000000000000000000000000000004', 'tokenDecimals': 18, 'tokenName': 'Wrapped Ether', 'tokenSymbol': 'WETH', 'usdRate': 3.28071e-15, 'balance': 0, 'balanceUSD': 0.0, 'logo': 'https://valk-merlin.s3.amazonaws.com/token-icons-small/blast/0x4300000000000000000000000000000000000004.png', 'reserve': None, 'apy': None, 'balanceDecimal': 0.0}], 'rewards': [{'id': '', 'tokenAddress': '0x4300000000000000000000000000000000000004', 'tokenDecimals': 18, 'tokenName': 'Wrapped Ether', 'tokenSymbol': 'WETH', 'usdRate': 3.28071e-15, 'balance': 154016987373, 'balanceUSD': 0.0005052850706444749, 'logo': 'https://valk-merlin.s3.amazonaws.com/token-icons-small/blast/0x4300000000000000000000000000000000000004.png', 'reserve': None, 'apy': None, 'balanceDecimal': 1.54016987373e-07}], 'borrow': None, 'lpTokenAddress': None, 'poolTokenName': None, 'poolTokenSymbol': None, 'poolAddress': '0x0e84461a00c661a18e00cab8888d146fde10da8d', 'lpToken': None, 'poolApy': None, 'balanceOf': None, 'totalSupply': None, 'unlock': None, 'description': None}, 'yieldAndPnl': None, 'poolData': None, 'module': 'Staked', 'proxy': None}], 'fullCoverage': False}, {'chain': 'blast', 'name': 'blast_juice', 'commonName': 'Juice', 'logo': 'https://valk-merlin.s3.amazonaws.com/protocol-icons/blast_juice.png', 'site': 'https://app.juice.finance/', 'portfolio': [{'total': {'supplyUSD': 0.05418529309353326, 'debtUSD': 0.0, 'txFeeUSD': 0.0, 'navUSD': 0.05418529309353326, 'active': True}, 'detailed': {'supply': [{'id': '', 'tokenAddress': '0x04c0599ae5a44757c0af6f9ec3b93da8976c150a', 'tokenDecimals': 18, 'tokenName': 'Wrapped eETH', 'tokenSymbol': 'weETH', 'usdRate': 3.4532289559284227e-15, 'balance': 15691196206527, 'balanceUSD': 0.05418529309353326, 'logo': 'https://valk-merlin.s3.amazonaws.com/token-icons-small/blast/0x04c0599ae5a44757c0af6f9ec3b93da8976c150a.png', 'reserve': None, 'apy': None, 'balanceDecimal': 1.5691196206527e-05}], 'rewards': None, 'borrow': None, 'lpTokenAddress': None, 'poolTokenName': None, 'poolTokenSymbol': None, 'poolAddress': '0x7e4afebe294345d72de6bb8405c871d7bb6c53d1', 'lpToken': None, 'poolApy': None, 'balanceOf': None, 'totalSupply': None, 'unlock': None, 'description': None}, 'yieldAndPnl': None, 'poolData': None, 'module': 'Leveraged Farming', 'proxy': None}], 'fullCoverage': False}, {'chain': 'blast', 'name': 'blast_orbitlending', 'commonName': 'Orbit Protocol', 'logo': 'https://valk-merlin.s3.amazonaws.com/protocol-icons/blast_orbitlending.png', 'site': 'https://app.orbitlending.io', 'portfolio': [{'total': {'supplyUSD': 0.00153673579800965, 'debtUSD': 0.0, 'txFeeUSD': 0.0, 'navUSD': 0.00153673579800965, 'active': True}, 'detailed': {'supply': [{'id': '', 'tokenAddress': 'blast', 'tokenDecimals': 18, 'tokenName': 'ETH', 'tokenSymbol': 'ETH', 'usdRate': 3.28071e-15, 'balance': 468415616744, 'balanceUSD': 0.00153673579800965, 'logo': 'https://valk-merlin.s3.amazonaws.com/token-icons-small/blast/blast.png', 'reserve': None, 'apy': None, 'balanceDecimal': 4.68415616744e-07}], 'rewards': None, 'borrow': None, 'lpTokenAddress': None, 'poolTokenName': None, 'poolTokenSymbol': None, 'poolAddress': '0x1e18c3cb491d908241d0db14b081b51be7b6e652', 'lpToken': None, 'poolApy': None, 'balanceOf': None, 'totalSupply': None, 'unlock': None, 'description': None}, 'yieldAndPnl': None, 'poolData': None, 'module': 'Lending', 'proxy': None}], 'fullCoverage': False}, {'chain': 'blast', 'name': 'blast_range', 'commonName': 'SkateFi', 'logo': 'https://valk-merlin.s3.amazonaws.com/protocol-icons/blast_range.png', 'site': 'https://app.rangeprotocol.com/vault', 'portfolio': [{'total': {'supplyUSD': 3.390331766655769e-09, 'debtUSD': 0.0, 'txFeeUSD': 0.0, 'navUSD': 3.390331766655769e-09, 'active': True}, 'detailed': {'supply': [{'id': '', 'tokenAddress': '0x4300000000000000000000000000000000000003', 'tokenDecimals': 18, 'tokenName': 'USDB', 'tokenSymbol': 'USDB', 'usdRate': 9.999e-19, 'balance': 3390670833, 'balanceUSD': 3.390331766655769e-09, 'logo': 'https://valk-merlin.s3.amazonaws.com/token-icons-small/blast/0x4300000000000000000000000000000000000003.png', 'reserve': None, 'apy': None, 'balanceDecimal': 3.390670833e-09}], 'rewards': None, 'borrow': None, 'lpTokenAddress': None, 'poolTokenName': None, 'poolTokenSymbol': None, 'poolAddress': '0x508304f8f03b9f767ea77ac1ecd9c5f749d8d742', 'lpToken': None, 'poolApy': None, 'balanceOf': None, 'totalSupply': None, 'unlock': None, 'description': None}, 'yieldAndPnl': None, 'poolData': None, 'module': 'Staked', 'proxy': None}], 'fullCoverage': False}, {'chain': 'bsc', 'name': 'bsc_helio', 'commonName': 'Lista DAO', 'logo': 'https://valk-merlin.s3.amazonaws.com/protocol-icons/bsc_helio.png', 'site': 'https://lista.org', 'portfolio': [{'total': {'supplyUSD': 0.007331963300577546, 'debtUSD': 0.0, 'txFeeUSD': 0.0, 'navUSD': 0.007331963300577546, 'active': True}, 'detailed': {'supply': [{'id': '', 'tokenAddress': 'bsc', 'tokenDecimals': 18, 'tokenName': 'BNB', 'tokenSymbol': 'BNB', 'usdRate': 6.303e-16, 'balance': 11632497700424, 'balanceUSD': 0.007331963300577546, 'logo': 'https://valk-merlin.s3.amazonaws.com/token-icons-small/bsc/bsc.png', 'reserve': None, 'apy': None, 'balanceDecimal': 1.1632497700424e-05}], 'rewards': None, 'borrow': None, 'lpTokenAddress': None, 'poolTokenName': None, 'poolTokenSymbol': None, 'poolAddress': '0xb0b84d294e0c75a6abe60171b70edeb2efd14a1b', 'lpToken': None, 'poolApy': None, 'balanceOf': None, 'totalSupply': None, 'unlock': None, 'description': None}, 'yieldAndPnl': None, 'poolData': None, 'module': 'Staked', 'proxy': None}], 'fullCoverage': False}, {'chain': 'bsc', 'name': 'bsc_pancakeswap3', 'commonName': 'PancakeSwap V3', 'logo': 'https://valk-merlin.s3.amazonaws.com/protocol-icons/bsc_pancakeswap3.png', 'site': 'https://pancakeswap.finance', 'portfolio': [{'total': {'supplyUSD': 5.78007042077181, 'debtUSD': 0.0, 'txFeeUSD': 0.0, 'navUSD': 5.78007042077181, 'active': True}, 'detailed': {'supply': [{'id': '', 'tokenAddress': '0x0e09fabb73bd3ade0a17ecc321fd13a19e81ce82', 'tokenDecimals': 18, 'tokenName': 'PancakeSwap Token', 'tokenSymbol': 'Cake', 'usdRate': 1.936e-18, 'balance': 2985573564448249000, 'balanceUSD': 5.78007042077181, 'logo': 'https://valk-merlin.s3.amazonaws.com/token-icons-small/bsc/0x0e09fabb73bd3ade0a17ecc321fd13a19e81ce82.png', 'reserve': None, 'apy': None, 'balanceDecimal': 2.985573564448249}], 'rewards': [{'id': '', 'tokenAddress': '0x0e09fabb73bd3ade0a17ecc321fd13a19e81ce82', 'tokenDecimals': 18, 'tokenName': 'PancakeSwap Token', 'tokenSymbol': 'Cake', 'usdRate': 1.936e-18, 'balance': 107977292358606340, 'balanceUSD': 0.20904403800626187, 'logo': 'https://valk-merlin.s3.amazonaws.com/token-icons-small/bsc/0x0e09fabb73bd3ade0a17ecc321fd13a19e81ce82.png', 'reserve': None, 'apy': None, 'balanceDecimal': 0.10797729235860634}], 'borrow': None, 'lpTokenAddress': None, 'poolTokenName': None, 'poolTokenSymbol': None, 'poolAddress': '0x5692db8177a81a6c6afc8084c2976c9933ec1bab', 'lpToken': None, 'poolApy': None, 'balanceOf': None, 'totalSupply': None, 'unlock': None, 'description': None}, 'yieldAndPnl': None, 'poolData': None, 'module': 'Locked', 'proxy': None}], 'fullCoverage': False}, {'chain': 'eth', 'name': 'etherfi', 'commonName': 'ether.fi', 'logo': 'https://valk-merlin.s3.amazonaws.com/protocol-icons/etherfi.png', 'site': 'https://www.ether.fi/', 'portfolio': [{'total': {'supplyUSD': 3.2807100000000004e-15, 'debtUSD': 0.0, 'txFeeUSD': 0.0, 'navUSD': 3.2807100000000004e-15, 'active': True}, 'detailed': {'supply': [{'id': '', 'tokenAddress': 'eth', 'tokenDecimals': 18, 'tokenName': 'ETH', 'tokenSymbol': 'ETH', 'usdRate': 3.28071e-15, 'balance': 1, 'balanceUSD': 3.2807100000000004e-15, 'logo': 'https://valk-merlin.s3.amazonaws.com/token-icons-small/eth/eth.png', 'reserve': None, 'apy': None, 'balanceDecimal': 1e-18}], 'rewards': None, 'borrow': None, 'lpTokenAddress': None, 'poolTokenName': None, 'poolTokenSymbol': None, 'poolAddress': '0x35fa164735182de50811e8e2e824cfb9b6118ac2', 'lpToken': None, 'poolApy': None, 'balanceOf': None, 'totalSupply': None, 'unlock': None, 'description': None}, 'yieldAndPnl': None, 'poolData': None, 'module': 'Staked', 'proxy': None}], 'fullCoverage': False}, {'chain': 'linea', 'name': 'linea_zerolend', 'commonName': 'ZeroLend', 'logo': 'https://valk-merlin.s3.amazonaws.com/protocol-icons/linea_zerolend.png', 'site': 'https://app.zerolend.xyz/', 'portfolio': [{'total': {'supplyUSD': 12.444369542053197, 'debtUSD': 0.0, 'txFeeUSD': 0.0, 'navUSD': 12.444369542053197, 'active': True}, 'detailed': {'supply': [{'id': '', 'tokenAddress': '0x78354f8dccb269a615a7e0a24f9b0718fdc3c7a7', 'tokenDecimals': 18, 'tokenName': 'ZeroLend', 'tokenSymbol': 'ZERO', 'usdRate': 2.832657365415865e-22, 'balance': 43931785375765794000000, 'balanceUSD': 12.444369542053197, 'logo': 'https://valk-merlin.s3.amazonaws.com/token-icons-small/linea/0x78354f8dccb269a615a7e0a24f9b0718fdc3c7a7.png', 'reserve': None, 'apy': None, 'balanceDecimal': 43931.785375765794}], 'rewards': [{'id': '', 'tokenAddress': '0x78354f8dccb269a615a7e0a24f9b0718fdc3c7a7', 'tokenDecimals': 18, 'tokenName': 'ZeroLend', 'tokenSymbol': 'ZERO', 'usdRate': 2.832657365415865e-22, 'balance': 125366313855133570000, 'balanceUSD': 0.03551198123167811, 'logo': 'https://valk-merlin.s3.amazonaws.com/token-icons-small/linea/0x78354f8dccb269a615a7e0a24f9b0718fdc3c7a7.png', 'reserve': None, 'apy': None, 'balanceDecimal': 125.36631385513357}], 'borrow': None, 'lpTokenAddress': None, 'poolTokenName': None, 'poolTokenSymbol': None, 'poolAddress': '0xf374229a18ff691406f99ccbd93e8a3f16b68888', 'lpToken': None, 'poolApy': None, 'balanceOf': None, 'totalSupply': None, 'unlock': None, 'description': None}, 'yieldAndPnl': None, 'poolData': None, 'module': 'Locked', 'proxy': None}], 'fullCoverage': False}, {'chain': 'op', 'name': 'op_aave3', 'commonName': 'Aave V3', 'logo': 'https://valk-merlin.s3.amazonaws.com/protocol-icons/op_aave3.png', 'site': 'https://app.aave.com', 'portfolio': [{'total': {'supplyUSD': 326.55837385340647, 'debtUSD': 0.0, 'txFeeUSD': 0.0, 'navUSD': 326.55837385340647, 'active': True}, 'detailed': {'supply': [{'id': '', 'tokenAddress': '0x4200000000000000000000000000000000000006', 'tokenDecimals': 18, 'tokenName': 'Wrapped Ether', 'tokenSymbol': 'WETH', 'usdRate': 3.28142e-15, 'balance': 99517396082612550, 'balanceUSD': 326.55837385340647, 'logo': 'https://valk-merlin.s3.amazonaws.com/token-icons-small/op/0x4200000000000000000000000000000000000006.png', 'reserve': None, 'apy': None, 'balanceDecimal': 0.09951739608261255}], 'rewards': None, 'borrow': None, 'lpTokenAddress': None, 'poolTokenName': None, 'poolTokenSymbol': None, 'poolAddress': '0x794a61358d6845594f94dc1db02a252b5b4814ad', 'lpToken': None, 'poolApy': None, 'balanceOf': None, 'totalSupply': None, 'unlock': None, 'description': None}, 'yieldAndPnl': None, 'poolData': None, 'module': 'Lending', 'proxy': None}, {'total': {'supplyUSD': 0.0, 'debtUSD': 200.0274757863205, 'txFeeUSD': 0.0, 'navUSD': -200.0274757863205, 'active': True}, 'detailed': {'supply': None, 'rewards': None, 'borrow': [{'id': '', 'tokenAddress': '0x0b2c639c533813f4aa9d7837caf62653d097ff85', 'tokenDecimals': 6, 'tokenName': 'USD Coin', 'tokenSymbol': 'USDC', 'usdRate': 9.985022466300548e-07, 'balance': 200327517, 'balanceUSD': 200.0274757863205, 'logo': 'https://valk-merlin.s3.amazonaws.com/token-icons-small/op/0x0b2c639c533813f4aa9d7837caf62653d097ff85.png', 'reserve': None, 'apy': None, 'balanceDecimal': 200.327517}], 'lpTokenAddress': None, 'poolTokenName': None, 'poolTokenSymbol': None, 'poolAddress': '0x794a61358d6845594f94dc1db02a252b5b4814ad', 'lpToken': None, 'poolApy': None, 'balanceOf': None, 'totalSupply': None, 'unlock': None, 'description': None}, 'yieldAndPnl': None, 'poolData': None, 'module': 'Lending', 'proxy': None}], 'fullCoverage': False}, {'chain': 'eth', 'name': 'pendle2', 'commonName': 'Pendle V2', 'logo': 'https://valk-merlin.s3.amazonaws.com/protocol-icons/pendle2.png', 'site': 'https://app.pendle.finance', 'portfolio': [{'total': {'supplyUSD': 27.909759487241843, 'debtUSD': 0.0, 'txFeeUSD': 0.0, 'navUSD': 27.909759487241843, 'active': True}, 'detailed': {'supply': [{'id': '', 'tokenAddress': '0x808507121b80c02388fad14726482e061b8da827', 'tokenDecimals': 18, 'tokenName': 'Pendle', 'tokenSymbol': 'PENDLE', 'usdRate': 5.597691130402921e-18, 'balance': 4985941317064577000, 'balanceUSD': 27.909759487241843, 'logo': 'https://valk-merlin.s3.amazonaws.com/token-icons-small/eth/0x808507121b80c02388fad14726482e061b8da827.png', 'reserve': None, 'apy': None, 'balanceDecimal': 4.985941317064577}], 'rewards': None, 'borrow': None, 'lpTokenAddress': None, 'poolTokenName': None, 'poolTokenSymbol': None, 'poolAddress': '0x4f30a9d41b80ecc5b94306ab4364951ae3170210', 'lpToken': None, 'poolApy': None, 'balanceOf': None, 'totalSupply': None, 'unlock': None, 'description': None}, 'yieldAndPnl': None, 'poolData': None, 'module': 'Locked', 'proxy': None}], 'fullCoverage': False}]\n"
     ]
    }
   ],
   "source": [
    "\n",
    "url = f'https://api-v1.mymerlin.io/api/merlin/public/userDeFiPositions/all/{user_address}'\n",
    "headers = {\n",
    "    'Authorization': api_key,\n",
    "    'Accept': 'application/json'\n",
    "}\n",
    "response = requests.get(url, headers=headers)\n",
    "data = response.json()\n",
    "print(data)\n"
   ]
  },
  {
   "cell_type": "code",
   "execution_count": 108,
   "metadata": {},
   "outputs": [],
   "source": [
    "Master_df =pd.DataFrame(data)\n",
    "Master_df = Master_df[['commonName','portfolio']].set_index('commonName')\n",
    "Trading = Master_df.loc['APX Finance']['portfolio']"
   ]
  },
  {
   "cell_type": "code",
   "execution_count": null,
   "metadata": {},
   "outputs": [
    {
     "data": {
      "text/plain": [
       "commonName\n",
       "APX Finance       [{'total': {'supplyUSD': 119.26757665635216, '...\n",
       "Pendle V2         [{'total': {'supplyUSD': 0.8954327919423709, '...\n",
       "Aerodrome         [{'total': {'supplyUSD': 8.29017794329327, 'de...\n",
       "ether.fi          [{'total': {'supplyUSD': 20.455871356879637, '...\n",
       "Fluid             [{'total': {'supplyUSD': 0.5633776118122888, '...\n",
       "BLASTUP           [{'total': {'supplyUSD': 0.0, 'debtUSD': 0.0, ...\n",
       "Juice             [{'total': {'supplyUSD': 0.05418529309353326, ...\n",
       "Orbit Protocol    [{'total': {'supplyUSD': 0.00153673579800965, ...\n",
       "SkateFi           [{'total': {'supplyUSD': 3.390331766655769e-09...\n",
       "Lista DAO         [{'total': {'supplyUSD': 0.007331963300577546,...\n",
       "PancakeSwap V3    [{'total': {'supplyUSD': 5.78007042077181, 'de...\n",
       "ether.fi          [{'total': {'supplyUSD': 3.2807100000000004e-1...\n",
       "ZeroLend          [{'total': {'supplyUSD': 12.444369542053197, '...\n",
       "Aave V3           [{'total': {'supplyUSD': 326.55837385340647, '...\n",
       "Pendle V2         [{'total': {'supplyUSD': 27.909759487241843, '...\n",
       "Name: portfolio, dtype: object"
      ]
     },
     "execution_count": 122,
     "metadata": {},
     "output_type": "execute_result"
    }
   ],
   "source": [
    "Master_df.transpose().loc['portfolio']"
   ]
  },
  {
   "cell_type": "code",
   "execution_count": 102,
   "metadata": {},
   "outputs": [
    {
     "data": {
      "text/plain": [
       "119.02363999649374"
      ]
     },
     "execution_count": 102,
     "metadata": {},
     "output_type": "execute_result"
    }
   ],
   "source": [
    "position['detailed']['supply'][0]['balanceDecimal'] * 3274"
   ]
  },
  {
   "cell_type": "code",
   "execution_count": null,
   "metadata": {},
   "outputs": [],
   "source": [
    "# Merlin API Trading Balance\n",
    "Trading_balance = {}\n",
    "count=0\n",
    "Sum = 0\n",
    "for position in Trading[0]:\n",
    "    Trading_balance[f'position_{count}'] = position['total']['navUSD']\n",
    "    count= count+1\n",
    "    Sum = Sum + position['total']['navUSD']\n",
    "Trading_balance['total'] = Sum\n",
    "Trading_balance = pd.DataFrame.from_dict(data=Trading_balance, orient='index', columns=['Balance'])"
   ]
  },
  {
   "cell_type": "code",
   "execution_count": 79,
   "metadata": {},
   "outputs": [
    {
     "data": {
      "text/html": [
       "<div>\n",
       "<style scoped>\n",
       "    .dataframe tbody tr th:only-of-type {\n",
       "        vertical-align: middle;\n",
       "    }\n",
       "\n",
       "    .dataframe tbody tr th {\n",
       "        vertical-align: top;\n",
       "    }\n",
       "\n",
       "    .dataframe thead th {\n",
       "        text-align: right;\n",
       "    }\n",
       "</style>\n",
       "<table border=\"1\" class=\"dataframe\">\n",
       "  <thead>\n",
       "    <tr style=\"text-align: right;\">\n",
       "      <th></th>\n",
       "      <th>Balance</th>\n",
       "    </tr>\n",
       "  </thead>\n",
       "  <tbody>\n",
       "    <tr>\n",
       "      <th>position_0</th>\n",
       "      <td>118.635377</td>\n",
       "    </tr>\n",
       "    <tr>\n",
       "      <th>position_1</th>\n",
       "      <td>107.201109</td>\n",
       "    </tr>\n",
       "    <tr>\n",
       "      <th>position_2</th>\n",
       "      <td>130.529583</td>\n",
       "    </tr>\n",
       "    <tr>\n",
       "      <th>total</th>\n",
       "      <td>356.366069</td>\n",
       "    </tr>\n",
       "  </tbody>\n",
       "</table>\n",
       "</div>"
      ],
      "text/plain": [
       "               Balance\n",
       "position_0  118.635377\n",
       "position_1  107.201109\n",
       "position_2  130.529583\n",
       "total       356.366069"
      ]
     },
     "execution_count": 79,
     "metadata": {},
     "output_type": "execute_result"
    }
   ],
   "source": [
    "Trading_balance"
   ]
  },
  {
   "cell_type": "code",
   "execution_count": null,
   "metadata": {},
   "outputs": [],
   "source": []
  }
 ],
 "metadata": {
  "kernelspec": {
   "display_name": "master_venv",
   "language": "python",
   "name": "python3"
  },
  "language_info": {
   "codemirror_mode": {
    "name": "ipython",
    "version": 3
   },
   "file_extension": ".py",
   "mimetype": "text/x-python",
   "name": "python",
   "nbconvert_exporter": "python",
   "pygments_lexer": "ipython3",
   "version": "3.13.0"
  }
 },
 "nbformat": 4,
 "nbformat_minor": 2
}
